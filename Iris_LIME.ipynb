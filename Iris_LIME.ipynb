{
 "cells": [
  {
   "cell_type": "code",
   "execution_count": 1,
   "id": "a9198bf7-4238-407b-b42a-3bd10ecb243c",
   "metadata": {},
   "outputs": [
    {
     "name": "stdout",
     "output_type": "stream",
     "text": [
      "Instance to explain: [6.1 2.8 4.7 1.2]\n",
      "\n",
      "Feature importance (coefficients):\n",
      "sepal length (cm): -0.0796\n",
      "sepal width (cm): 0.0008\n",
      "petal length (cm): -0.8457\n",
      "petal width (cm): 0.0282\n"
     ]
    }
   ],
   "source": [
    "import numpy as np\n",
    "import pandas as pd\n",
    "from sklearn.datasets import load_iris\n",
    "from sklearn.model_selection import train_test_split\n",
    "from sklearn.ensemble import RandomForestClassifier\n",
    "from sklearn.linear_model import LinearRegression\n",
    "\n",
    "# Step 1: Load the Iris dataset\n",
    "iris = load_iris()\n",
    "X = iris.data\n",
    "y = iris.target\n",
    "\n",
    "# Step 2: Split the data into training and testing sets\n",
    "X_train, X_test, y_train, y_test = train_test_split(X, y, test_size=0.2, random_state=42)\n",
    "\n",
    "# Step 3: Train a Random Forest model\n",
    "rf = RandomForestClassifier(n_estimators=100, random_state=42)\n",
    "rf.fit(X_train, y_train)\n",
    "\n",
    "# Step 4: Choose an instance to explain\n",
    "instance_to_explain = X_test[0]\n",
    "print(\"Instance to explain:\", instance_to_explain)\n",
    "\n",
    "# Step 5: Generate perturbed samples\n",
    "def generate_perturbations(instance, num_samples=100):\n",
    "    # Create an empty list to store the perturbations\n",
    "    perturbations = []\n",
    "    \n",
    "    # Loop to generate num_samples perturbations\n",
    "    for _ in range(num_samples):\n",
    "        # Generate random noise from a normal distribution with mean 0 and std 0.1\n",
    "        noise = np.random.normal(0, 0.1, size=instance.shape)\n",
    "        \n",
    "        # Add the noise to the instance to create a new perturbed version\n",
    "        perturbed_instance = instance + noise\n",
    "        \n",
    "        # Append the perturbed instance to the list\n",
    "        perturbations.append(perturbed_instance)\n",
    "    \n",
    "    # Convert the list of perturbations to a NumPy array and return it\n",
    "    return np.array(perturbations)\n",
    "\n",
    "\n",
    "perturbed_data = generate_perturbations(instance_to_explain)\n",
    "\n",
    "# Step 6: Get predictions for the perturbed data\n",
    "perturbed_predictions = rf.predict_proba(perturbed_data)\n",
    "\n",
    "# Step 7: Calculate weights based on distance to original instance ,Euclidean distance\n",
    "def calculate_weights(original_instance, perturbed_data):\n",
    "    distances = np.linalg.norm(perturbed_data - original_instance, axis=1)\n",
    "    return np.exp(-distances)\n",
    "\n",
    "weights = calculate_weights(instance_to_explain, perturbed_data)\n",
    "\n",
    "# Step 8: Fit a simple linear regression model\n",
    "y_perturbed = perturbed_predictions[:, np.argmax(rf.predict_proba([instance_to_explain])[0])]\n",
    "lr = LinearRegression()\n",
    "lr.fit(perturbed_data, y_perturbed, sample_weight=weights)\n",
    "\n",
    "# Step 9: Print the explanation\n",
    "print(\"\\nFeature importance (coefficients):\")\n",
    "for i, feature_name in enumerate(iris.feature_names):\n",
    "    print(f\"{feature_name}: {lr.coef_[i]:.4f}\")\n",
    "\n",
    " "
   ]
  },
  {
   "cell_type": "code",
   "execution_count": null,
   "id": "09561564-2353-4ace-85b9-5cc6515c199c",
   "metadata": {},
   "outputs": [],
   "source": []
  }
 ],
 "metadata": {
  "kernelspec": {
   "display_name": "Python 3 (ipykernel)",
   "language": "python",
   "name": "python3"
  },
  "language_info": {
   "codemirror_mode": {
    "name": "ipython",
    "version": 3
   },
   "file_extension": ".py",
   "mimetype": "text/x-python",
   "name": "python",
   "nbconvert_exporter": "python",
   "pygments_lexer": "ipython3",
   "version": "3.12.3"
  }
 },
 "nbformat": 4,
 "nbformat_minor": 5
}

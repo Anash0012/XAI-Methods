{
 "cells": [
  {
   "cell_type": "code",
   "execution_count": 3,
   "id": "18a2359a-1a61-4961-a6d8-41863a091545",
   "metadata": {},
   "outputs": [
    {
     "name": "stdout",
     "output_type": "stream",
     "text": [
      "Columns in the dataset: Index(['fixed acidity', 'volatile acidity', 'citric acid', 'residual sugar',\n",
      "       'chlorides', 'free sulfur dioxide', 'total sulfur dioxide', 'density',\n",
      "       'pH', 'sulphates', 'alcohol', 'quality'],\n",
      "      dtype='object')\n",
      "Instance to explain: [ 7.7     0.56    0.08    2.5     0.114  14.     46.      0.9971  3.24\n",
      "  0.66    9.6   ]\n"
     ]
    },
    {
     "name": "stderr",
     "output_type": "stream",
     "text": [
      "C:\\Users\\hp\\AppData\\Local\\Programs\\Python\\Python312\\Lib\\site-packages\\sklearn\\base.py:493: UserWarning: X does not have valid feature names, but RandomForestClassifier was fitted with feature names\n",
      "  warnings.warn(\n",
      "C:\\Users\\hp\\AppData\\Local\\Programs\\Python\\Python312\\Lib\\site-packages\\sklearn\\base.py:493: UserWarning: X does not have valid feature names, but RandomForestClassifier was fitted with feature names\n",
      "  warnings.warn(\n"
     ]
    },
    {
     "name": "stdout",
     "output_type": "stream",
     "text": [
      "\n",
      "Feature importance (coefficients):\n",
      "fixed acidity: 0.0104\n",
      "volatile acidity: 0.0488\n",
      "citric acid: -0.0208\n",
      "residual sugar: -0.0067\n",
      "chlorides: 0.0188\n",
      "free sulfur dioxide: 0.0031\n",
      "total sulfur dioxide: -0.0331\n",
      "density: 0.0430\n",
      "pH: 0.0023\n",
      "sulphates: -0.0299\n",
      "alcohol: -0.0211\n"
     ]
    }
   ],
   "source": [
    "import pandas as pd\n",
    "import numpy as np\n",
    "from sklearn.model_selection import train_test_split\n",
    "from sklearn.ensemble import RandomForestClassifier\n",
    "from sklearn.linear_model import LinearRegression\n",
    "import matplotlib.pyplot as plt\n",
    "\n",
    "# Load the downloaded dataset (ensure the file path is correct)\n",
    "data = pd.read_csv(\"winequality-red.csv\", delimiter=';')  # Use semicolon as delimiter\n",
    "\n",
    "# Check the column names\n",
    "print(\"Columns in the dataset:\", data.columns)\n",
    "\n",
    "# Clean column names (remove leading/trailing spaces if any)\n",
    "data.columns = data.columns.str.strip()\n",
    "\n",
    "# Separate features and target\n",
    "X = data.drop('quality', axis=\"columns\")  # Ensure 'quality' exists after cleaning\n",
    "y = data['quality']\n",
    "\n",
    "# Split the dataset into training and testing sets\n",
    "X_train, X_test, y_train, y_test = train_test_split(X, y, test_size=0.2, random_state=42)\n",
    "\n",
    "# Train a RandomForestClassifier\n",
    "rf = RandomForestClassifier(random_state=42)\n",
    "rf.fit(X_train, y_train)\n",
    "\n",
    "# Step 4: Choose an instance to explain\n",
    "instance_to_explain = X_test.iloc[0].values  # Convert to NumPy array for consistency\n",
    "print(\"Instance to explain:\", instance_to_explain)\n",
    "\n",
    "# Step 5: Generate perturbed samples\n",
    "def generate_perturbations(instance, num_samples=100):\n",
    "    perturbations = []\n",
    "    for _ in range(num_samples):\n",
    "        noise = np.random.normal(0, 0.5, size=instance.shape)\n",
    "        perturbed_instance = instance + noise\n",
    "        perturbations.append(perturbed_instance)\n",
    "    return np.array(perturbations)\n",
    "\n",
    "perturbed_data = generate_perturbations(instance_to_explain)\n",
    "\n",
    "# Step 6: Get predictions for the perturbed data\n",
    "perturbed_predictions = rf.predict_proba(perturbed_data)\n",
    "\n",
    "# Step 7: Calculate weights based on distance to original instance (Euclidean distance)\n",
    "def calculate_weights(original_instance, perturbed_data):\n",
    "    distances = np.linalg.norm(perturbed_data - original_instance, axis=1)\n",
    "    return np.exp(-distances)\n",
    "\n",
    "weights = calculate_weights(instance_to_explain, perturbed_data)\n",
    "\n",
    "# Step 8: Fit a simple linear regression model\n",
    "y_perturbed = perturbed_predictions[:, np.argmax(rf.predict_proba([instance_to_explain])[0])]\n",
    "lr = LinearRegression()\n",
    "lr.fit(perturbed_data, y_perturbed, sample_weight=weights)\n",
    "\n",
    "# Step 9: Print the explanation (Feature importance)\n",
    "print(\"\\nFeature importance (coefficients):\")\n",
    "for i, feature_name in enumerate(X.columns):\n",
    "    print(f\"{feature_name}: {lr.coef_[i]:.4f}\")\n"
   ]
  },
  {
   "cell_type": "code",
   "execution_count": null,
   "id": "9b3a6d7f-2bf0-482c-b30e-d528339c6bb3",
   "metadata": {},
   "outputs": [],
   "source": []
  }
 ],
 "metadata": {
  "kernelspec": {
   "display_name": "Python 3 (ipykernel)",
   "language": "python",
   "name": "python3"
  },
  "language_info": {
   "codemirror_mode": {
    "name": "ipython",
    "version": 3
   },
   "file_extension": ".py",
   "mimetype": "text/x-python",
   "name": "python",
   "nbconvert_exporter": "python",
   "pygments_lexer": "ipython3",
   "version": "3.12.3"
  }
 },
 "nbformat": 4,
 "nbformat_minor": 5
}
